{
 "cells": [
  {
   "cell_type": "code",
   "execution_count": 1,
   "metadata": {},
   "outputs": [],
   "source": [
    "from input import read\n",
    "from stats import percentage, absolute\n",
    "from viz import heatmap, bar\n",
    "from utils import time, shape, string_op\n",
    "import numpy as np\n",
    "from datetime import datetime\n",
    "import dateutil"
   ]
  },
  {
   "cell_type": "code",
   "execution_count": 7,
   "metadata": {},
   "outputs": [
    {
     "name": "stderr",
     "output_type": "stream",
     "text": [
      "/home/ara/pyfin/local/lib/python2.7/site-packages/urllib3/util/ssl_.py:137: InsecurePlatformWarning: A true SSLContext object is not available. This prevents urllib3 from configuring SSL appropriately and may cause certain SSL connections to fail. You can upgrade to a newer version of Python to solve this. For more information, see https://urllib3.readthedocs.io/en/latest/advanced-usage.html#ssl-warnings\n",
      "  InsecurePlatformWarning\n",
      "/home/ara/pyfin/local/lib/python2.7/site-packages/urllib3/util/ssl_.py:137: InsecurePlatformWarning: A true SSLContext object is not available. This prevents urllib3 from configuring SSL appropriately and may cause certain SSL connections to fail. You can upgrade to a newer version of Python to solve this. For more information, see https://urllib3.readthedocs.io/en/latest/advanced-usage.html#ssl-warnings\n",
      "  InsecurePlatformWarning\n"
     ]
    }
   ],
   "source": [
    "symbol = \"WEED.TO\"\n",
    "end_date = datetime.today() #today\n",
    "start_date = end_date + dateutil.relativedelta.relativedelta(months=-2) #month ago\n",
    "\n",
    "date, num_data = read.get_data_from_web(symbol, start_date, end_date)"
   ]
  },
  {
   "cell_type": "code",
   "execution_count": 8,
   "metadata": {},
   "outputs": [],
   "source": [
    "sh = np.shape(date)\n",
    "\n",
    "days = []\n",
    "for i in range (sh[0]):\n",
    "#    day = time.get_day_number_from_date_string(date[i][0])\n",
    "    day = time.get_day_number_from_date_string(date[i].strftime(\"%Y-%m-%d\"))\n",
    "    days.append(day)\n",
    "\n",
    "#nd = read.get_numeric_data_from_all_data(data)\n",
    "pc = percentage.get_percentage_change_from_numeric_data(num_data)\n",
    "perc = pc * 100\n",
    "\n",
    "shaped_perc = shape.reshape_data(perc, days, 5)\n",
    "\n",
    "title = symbol + \": \" + start_date.strftime(\"%Y-%m-%d\")+ \" to \" + end_date.strftime(\"%Y-%m-%d\")"
   ]
  },
  {
   "cell_type": "code",
   "execution_count": 9,
   "metadata": {},
   "outputs": [],
   "source": [
    "heatmap.show(shaped_perc, title, 5)"
   ]
  },
  {
   "cell_type": "code",
   "execution_count": 10,
   "metadata": {},
   "outputs": [],
   "source": [
    "change = absolute.get_absolute_change_from_numeric_data(num_data)\n",
    "\n",
    "#print change\n",
    "\n",
    "sh = np.shape(change)\n",
    "\n",
    "POSITIVE_TYPE = 1\n",
    "NEGATIVE_TYPE = -1\n",
    "current_type = 0 \n",
    "\n",
    "#consec_pos_day_gain = []\n",
    "#consec_neg_day_loss = []\n",
    "consec_day = []\n",
    "\n",
    "pos_start = 0\n",
    "pos_end = 0\n",
    "\n",
    "neg_start = 0\n",
    "neg_end = 0\n",
    "\n",
    "count = 0\n",
    "\n",
    "\n",
    "for i in range (sh[0]):\n",
    "    #if positive day\n",
    "    if (change[i][0] > 0):\n",
    "        if current_type == POSITIVE_TYPE:\n",
    "            count = count + 1\n",
    "            continue\n",
    "        elif current_type == NEGATIVE_TYPE:\n",
    "            neg_end = read.get_closing_price_from_numeric_data(num_data[i-1:i])[0][0]\n",
    "            record = np.array([neg_start, neg_end, count])\n",
    "            consec_day.append(record)\n",
    " \n",
    "            pos_start = read.get_opening_price_from_numeric_data(num_data[i:i+1])[0][0]\n",
    "            count = 1\n",
    "        else:\n",
    "            pos_start = read.get_opening_price_from_numeric_data(num_data[i:i+1])[0][0]\n",
    "            count = 1\n",
    "        current_type = POSITIVE_TYPE\n",
    "    else:\n",
    "        if current_type == NEGATIVE_TYPE:\n",
    "            count = count + 1\n",
    "            continue\n",
    "        elif current_type == POSITIVE_TYPE:\n",
    "            pos_end = read.get_closing_price_from_numeric_data(num_data[i-1:i])[0][0]\n",
    "            record = np.array([pos_start, pos_end, count])\n",
    "            consec_day.append(record)\n",
    "\n",
    "            neg_start = read.get_opening_price_from_numeric_data(num_data[i:i+1])[0][0]\n",
    "            count = 1\n",
    "        else:\n",
    "            neg_start = read.get_opening_price_from_numeric_data(num_data[i:i+1])[0][0]\n",
    "            count = 1\n",
    "        current_type = NEGATIVE_TYPE\n",
    "\n",
    "\n",
    "#append last end\n",
    "if current_type == POSITIVE_TYPE:\n",
    "    pos_end = read.get_closing_price_from_numeric_data(num_data[i:i+1])[0][0]\n",
    "    record = np.array([pos_start, pos_end, count])\n",
    "    consec_day.append(record)\n",
    "else:\n",
    "    neg_end = read.get_closing_price_from_numeric_data(num_data[i:i+1])[0][0]\n",
    "    record = np.array([neg_start, neg_end, count])\n",
    "    consec_day.append(record)\n",
    "\n",
    "np_consec_day = np.array(consec_day)\n"
   ]
  },
  {
   "cell_type": "code",
   "execution_count": 11,
   "metadata": {},
   "outputs": [],
   "source": [
    "bar.show(np_consec_day, title)\n"
   ]
  },
  {
   "cell_type": "code",
   "execution_count": null,
   "metadata": {},
   "outputs": [],
   "source": []
  }
 ],
 "metadata": {
  "kernelspec": {
   "display_name": "pyfin",
   "language": "python",
   "name": "pyfin"
  },
  "language_info": {
   "codemirror_mode": {
    "name": "ipython",
    "version": 2
   },
   "file_extension": ".py",
   "mimetype": "text/x-python",
   "name": "python",
   "nbconvert_exporter": "python",
   "pygments_lexer": "ipython2",
   "version": "2.7.6"
  }
 },
 "nbformat": 4,
 "nbformat_minor": 2
}
