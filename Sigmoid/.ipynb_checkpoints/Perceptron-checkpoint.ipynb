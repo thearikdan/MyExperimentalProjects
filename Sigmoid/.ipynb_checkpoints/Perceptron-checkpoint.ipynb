{
 "cells": [
  {
   "cell_type": "raw",
   "metadata": {},
   "source": [
    "Based on explanation from:\n",
    "https://rolisz.ro/2013/04/18/neural-networks-in-python/"
   ]
  },
  {
   "cell_type": "code",
   "execution_count": 6,
   "metadata": {
    "collapsed": true
   },
   "outputs": [],
   "source": [
    "import numpy as np\n",
    "\n",
    "def tanh(x):\n",
    "    return np.tanh(x)\n",
    "\n",
    "def tanh_deriv(x):\n",
    "    return 1.0 - np.tanh(x)**2\n",
    "\n",
    "def logistic(x):\n",
    "    return 1/(1 + np.exp(-x))\n",
    "\n",
    "def logistic_derivative(x):\n",
    "    return logistic(x)*(1-logistic(x))"
   ]
  },
  {
   "cell_type": "code",
   "execution_count": 7,
   "metadata": {
    "collapsed": true
   },
   "outputs": [],
   "source": [
    "class NeuralNetwork:\n",
    "    def __init__(self, layers, activation='tanh'):\n",
    "        \"\"\"\n",
    "        :param layers: A list containing the number of units in each layer.\n",
    "        Should be at least two values\n",
    "        :param activation: The activation function to be used. Can be\n",
    "        \"logistic\" or \"tanh\"\n",
    "        \"\"\"\n",
    "        if activation == 'logistic':\n",
    "            self.activation = logistic\n",
    "            self.activation_deriv = logistic_derivative\n",
    "        elif activation == 'tanh':\n",
    "            self.activation = tanh\n",
    "            self.activation_deriv = tanh_deriv\n",
    "\n",
    "        self.weights = []\n",
    "        for i in range(1, len(layers) - 1):\n",
    "            self.weights.append((2*np.random.random((layers[i - 1] + 1, layers[i]\n",
    "                                ))-1)*0.25)\n",
    "        self.weights.append((2*np.random.random((layers[i] + 1, layers[i +\n",
    "                            1]))-1)*0.25)\n",
    "        \n",
    "    def fit(self, X, y, learning_rate=0.2, epochs=10000):\n",
    "        X = np.atleast_2d(X)\n",
    "        temp = np.ones([X.shape[0], X.shape[1]+1])\n",
    "        temp[:, 0:-1] = X  # adding the bias unit to the input layer\n",
    "        X = temp\n",
    "        y = np.array(y)\n",
    "\n",
    "        for k in range(epochs):\n",
    "            i = np.random.randint(X.shape[0])\n",
    "            a = [X[i]]\n",
    "\n",
    "            for l in range(len(self.weights)):\n",
    "                hidden_inputs = np.ones([self.weights[l].shape[1] + 1])\n",
    "                hidden_inputs[0:-1] = self.activation(np.dot(a[l], self.weights[l]))\n",
    "                a.append(hidden_inputs)\n",
    "            error = y[i] - a[-1][:-1]\n",
    "            deltas = [error * self.activation_deriv(a[-1][:-1])]\n",
    "            l = len(a) - 2\n",
    "\n",
    "            # The last layer before the output is handled separately because of\n",
    "            # the lack of bias node in output\n",
    "            deltas.append(deltas[-1].dot(self.weights[l].T)*self.activation_deriv(a[l]))\n",
    "\n",
    "            for l in range(len(a) -3, 0, -1): # we need to begin at the second to last layer\n",
    "                deltas.append(deltas[-1][:-1].dot(self.weights[l].T)*self.activation_deriv(a[l]))\n",
    "\n",
    "            deltas.reverse()\n",
    "            for i in range(len(self.weights)-1):\n",
    "                layer = np.atleast_2d(a[i])\n",
    "                delta = np.atleast_2d(deltas[i])\n",
    "                self.weights[i] += learning_rate * layer.T.dot(delta[:,:-1])\n",
    "            # Handle last layer separately because it doesn't have a bias unit\n",
    "            i+=1\n",
    "            layer = np.atleast_2d(a[i])\n",
    "            delta = np.atleast_2d(deltas[i])\n",
    "            self.weights[i] += learning_rate * layer.T.dot(delta)        \n",
    "            \n",
    "    def predict(self, x):\n",
    "        a = np.array(x)\n",
    "        for l in range(0, len(self.weights)):\n",
    "            temp = np.ones(a.shape[0]+1)\n",
    "            temp[0:-1] = a\n",
    "            a = self.activation(np.dot(temp, self.weights[l]))\n",
    "        return a            "
   ]
  },
  {
   "cell_type": "code",
   "execution_count": 8,
   "metadata": {},
   "outputs": [
    {
     "name": "stdout",
     "output_type": "stream",
     "text": [
      "([0, 0], array([ 0.59691461]))\n",
      "([0, 1], array([ 0.61148617]))\n",
      "([1, 0], array([ 0.61877753]))\n",
      "([1, 1], array([ 0.63229722]))\n"
     ]
    }
   ],
   "source": [
    "nn = NeuralNetwork([2,2,1], 'tanh')\n",
    "X = np.array([[0, 0], [0, 1], [1, 0], [1, 1]])\n",
    "y = np.array([0, 1, 1, 0])\n",
    "nn.fit(X, y)\n",
    "for i in [[0, 0], [0, 1], [1, 0], [1,1]]:\n",
    "    print(i,nn.predict(i))"
   ]
  },
  {
   "cell_type": "code",
   "execution_count": null,
   "metadata": {
    "collapsed": true
   },
   "outputs": [],
   "source": []
  }
 ],
 "metadata": {
  "kernelspec": {
   "display_name": "Python 2",
   "language": "python",
   "name": "python2"
  },
  "language_info": {
   "codemirror_mode": {
    "name": "ipython",
    "version": 2
   },
   "file_extension": ".py",
   "mimetype": "text/x-python",
   "name": "python",
   "nbconvert_exporter": "python",
   "pygments_lexer": "ipython2",
   "version": "2.7.12"
  }
 },
 "nbformat": 4,
 "nbformat_minor": 1
}
